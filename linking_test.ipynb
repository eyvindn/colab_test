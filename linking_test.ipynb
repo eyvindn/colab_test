{
  "nbformat": 4,
  "nbformat_minor": 0,
  "metadata": {
    "colab": {
      "name": "linking_test",
      "provenance": []
    },
    "kernelspec": {
      "name": "python3",
      "display_name": "Python 3"
    },
    "language_info": {
      "name": "python"
    }
  },
  "cells": [
    {
      "cell_type": "markdown",
      "metadata": {
        "id": "HexbBmO5yhce"
      },
      "source": [
        "We strongly recommend opening this notebook in [Google Colab](javascript:(window.open(\"https://colab.research.google.com/notebook#fileId=%22%20+%20window.location)))."
      ]
    }
  ]
}